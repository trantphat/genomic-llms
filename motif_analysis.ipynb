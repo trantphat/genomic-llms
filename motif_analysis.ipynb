{
 "cells": [
  {
   "cell_type": "code",
   "execution_count": 2,
   "metadata": {},
   "outputs": [],
   "source": [
    "import numpy as np\n",
    "\n",
    "from utils.motif_utils import get_attention_sequences, motif_analysis\n",
    "from utils.motif_probability_calculator import process_motif_files, combine_tomtom_files"
   ]
  },
  {
   "cell_type": "code",
   "execution_count": null,
   "metadata": {},
   "outputs": [
    {
     "name": "stdout",
     "output_type": "stream",
     "text": [
      "Model date: 2025-02-27_V2\n",
      "Processing with: min_len=5\n",
      "Size: (2968, 200)\n",
      "Before filtering, the length of motif: 6520\n",
      "After filtering, the length of motif: 468\n",
      "After merger, the number of groups: 52\n",
      "After number filter, the number of group: 18\n",
      "Processing with: min_len=5\n",
      "Size: (2968, 200)\n",
      "Before filtering, the length of motif: 6774\n",
      "After filtering, the length of motif: 991\n",
      "After merger, the number of groups: 55\n",
      "After number filter, the number of group: 28\n",
      "Processing with: min_len=5\n",
      "Size: (2968, 200)\n",
      "Before filtering, the length of motif: 8654\n",
      "After filtering, the length of motif: 282\n",
      "After merger, the number of groups: 45\n",
      "After number filter, the number of group: 13\n",
      "Processing with: min_len=5\n",
      "Size: (2968, 200)\n",
      "Before filtering, the length of motif: 8231\n",
      "After filtering, the length of motif: 477\n",
      "After merger, the number of groups: 46\n",
      "After number filter, the number of group: 15\n"
     ]
    }
   ],
   "source": [
    "# kmer = 6\n",
    "model_date = \"2025-02-27_V2\"\n",
    "min_lengths = [5]\n",
    "print(f\"Model date: {model_date}\")\n",
    "\n",
    "for kmer in range(3, 7):\n",
    "    for min_len in min_lengths:\n",
    "        print(f\"Processing with: min_len={min_len}\")\n",
    "\n",
    "        # Define file paths\n",
    "        target_directory = f\"./analysis/attention/{model_date}/{kmer}-mer/min_len={min_len}\"\n",
    "        attention_score_file = f\"outputs/attention_scores/{model_date}/{kmer}-mer_train_attention_scores.npy\"\n",
    "        dna_sequence_file = \"./data/enhancer_identification/combined_dna_sequences.txt\"\n",
    "\n",
    "        # Retrieve attention scores and sequences\n",
    "        pos_sequences, neg_sequences, pos_attention_scores, neg_attention_scores = get_attention_sequences(attention_score_file, dna_sequence_file)\n",
    "\n",
    "        # Perform motif analysis\n",
    "        motif_analysis(pos_seqs=pos_sequences, neg_seqs=neg_sequences, pos_atten_scores=pos_attention_scores, window_size=10, save_file_dir=target_directory, min_len=min_len, pval_cutoff=0.05)\n",
    "\n",
    "        # Define the output file name for probability calculation\n",
    "        probability_file_path = target_directory + \"/\"\n",
    "        process_motif_files(probability_file_path)\n",
    "        combine_tomtom_files(probability_file_path, f\"{min_len}_stats.txt\")"
   ]
  },
  {
   "cell_type": "code",
   "execution_count": 6,
   "metadata": {},
   "outputs": [],
   "source": [
    "!rm -rf analysis/attention"
   ]
  },
  {
   "cell_type": "code",
   "execution_count": 6,
   "metadata": {},
   "outputs": [
    {
     "name": "stdout",
     "output_type": "stream",
     "text": [
      "Processing with: min_len=5\n",
      "Size: (2968, 200)\n",
      "Size: (2968, 200)\n",
      "Size: (2968, 200)\n",
      "Size: (2968, 200)\n",
      "Before filtering, the length of motif: 7114\n",
      "After filtering, the length of motif: 704\n",
      "After merger, the number of groups: 51\n",
      "After number filter, the number of group: 19\n"
     ]
    }
   ],
   "source": [
    "kmer_range = [3, 4, 5, 6]\n",
    "model_date = \"2025-02-27_V2\"\n",
    "\n",
    "min_lengths = [5]\n",
    "\n",
    "for min_len in min_lengths:\n",
    "    print(f\"Processing with: min_len={min_len}\")\n",
    "    dna_sequence_file = \"./data/enhancer_identification/combined_dna_sequences.txt\"\n",
    "\n",
    "    # Initialize lists to store attention scores and sequences\n",
    "    all_pos_attention_scores = []\n",
    "    all_neg_attention_scores = []\n",
    "    pos_sequences = None\n",
    "    neg_sequences = None\n",
    "\n",
    "    for kmer in kmer_range:\n",
    "        # Define file paths\n",
    "        attention_score_file = f\"outputs/attention_scores/{model_date}/{kmer}-mer_train_attention_scores.npy\"\n",
    "\n",
    "        # Retrieve attention scores and sequences\n",
    "        pos_seq, neg_seq, pos_attention_scores, neg_attention_scores = get_attention_sequences(attention_score_file, dna_sequence_file)\n",
    "\n",
    "        # Store attention scores\n",
    "        all_pos_attention_scores.append(pos_attention_scores)\n",
    "        all_neg_attention_scores.append(neg_attention_scores)\n",
    "\n",
    "        # Store sequences (they are the same for all k-mers)\n",
    "        if pos_sequences is None:\n",
    "            pos_sequences = pos_seq\n",
    "            neg_sequences = neg_seq\n",
    "\n",
    "    # Combine attention scores\n",
    "    combined_pos_attention_scores = np.mean(np.stack(all_pos_attention_scores), axis=0)\n",
    "    combined_neg_attention_scores = np.mean(np.stack(all_neg_attention_scores), axis=0)\n",
    "\n",
    "    # Define target directory\n",
    "    target_directory = f\"./analysis/attention/{model_date}/average/min_len={min_len}\"\n",
    "\n",
    "    # Perform motif analysis with combined attention scores\n",
    "    motif_analysis(\n",
    "        pos_seqs=pos_sequences,\n",
    "        neg_seqs=neg_sequences,\n",
    "        pos_atten_scores=combined_pos_attention_scores,\n",
    "        window_size=10,\n",
    "        save_file_dir=target_directory,\n",
    "        min_len=min_len,\n",
    "        pval_cutoff=0.05,\n",
    "    )\n",
    "\n",
    "    # # Define the output file name for probability calculation\n",
    "    probability_file_path = target_directory + \"/\"\n",
    "    process_motif_files(probability_file_path)\n",
    "    combine_tomtom_files(probability_file_path, f\"{min_len}_stats.txt\")"
   ]
  }
 ],
 "metadata": {
  "kernelspec": {
   "display_name": "venv",
   "language": "python",
   "name": "python3"
  },
  "language_info": {
   "codemirror_mode": {
    "name": "ipython",
    "version": 3
   },
   "file_extension": ".py",
   "mimetype": "text/x-python",
   "name": "python",
   "nbconvert_exporter": "python",
   "pygments_lexer": "ipython3",
   "version": "3.9.13"
  },
  "orig_nbformat": 4
 },
 "nbformat": 4,
 "nbformat_minor": 2
}
